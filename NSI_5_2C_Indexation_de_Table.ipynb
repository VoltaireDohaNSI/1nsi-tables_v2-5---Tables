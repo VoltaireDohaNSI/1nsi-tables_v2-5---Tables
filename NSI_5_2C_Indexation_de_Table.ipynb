{
 "cells": [
  {
   "cell_type": "markdown",
   "metadata": {},
   "source": [
    "# Indexation de table\n",
    "\n",
    "## Pourquoi indexer une table ?\n",
    "\n",
    "Jusqu'ici, on a vu que __pour extraire de l'information d'une table, il fallait toujours parcourir l'ensemble de cette table__. On peut aisément comprendre que ce coût est très important lorsqu'il s'agit de traiter des tables de grande taille.\n",
    "\n",
    "Il devient alors intéressant de créer de nouvelles structures pour accélérer des recherches type. Comme on l'a vu (et on le détaillera un peu plus tard), les dictionnaires ont des qualités intrinsèques qui permettent de trouver une valeur efficacement, par clé plutôt que par indice. \n",
    "\n",
    "Il suffit donc de créer un nouveau dictionnaire, en choisissant les bonnes clés. Celles qui seront à l'origine des recherches futures.\n",
    "\n",
    "Ce principe s'appelle l'__indexation__ : on crée un __dictionnaire, avec des clés judicieusement choisies, pour améliorer les performances de recherche dans une table__.\n",
    "\n",
    "Dans le cas d'une table, __l'indexation consiste donc souvent à créer un dictionnaire de dictionnaires__.\n",
    "\n",
    "Reprenons notre exemple de table de naissances..."
   ]
  },
  {
   "cell_type": "code",
   "execution_count": null,
   "metadata": {},
   "outputs": [],
   "source": [
    "import csv\n",
    "\n",
    "with open(\"244400404_prenoms-enfants-nes-nantes.csv\", mode='r', encoding='utf-8') as f:\n",
    "    reader = csv.DictReader(f, delimiter=';')\n",
    "    table_naissances = [dictionnaire for dictionnaire in reader]\n",
    "\n",
    "print(table_naissances)"
   ]
  },
  {
   "cell_type": "markdown",
   "metadata": {},
   "source": [
    "Pour la suite, on va __nettoyer cette table en convertissant en entiers les nombres__ qu'elle contient (années et occurrences de naissances) et en corrigeant la faute d'orthographe :"
   ]
  },
  {
   "cell_type": "code",
   "execution_count": null,
   "metadata": {},
   "outputs": [],
   "source": [
    "for bebe in table_naissances:\n",
    "    bebe['Année de naissance'] = int(bebe['Année de naissance'])\n",
    "    bebe['Occurrence'] = int(float(bebe['Occurence']))\n",
    "    del(bebe['Occurence'])\n",
    "    \n",
    "print(table_naissances)"
   ]
  },
  {
   "cell_type": "markdown",
   "metadata": {},
   "source": [
    "Quel type de recherche pourrait être la plus fréquente sur cette table ?\n",
    "\n",
    "Il est raisonnable de penser que les __recherches par prénom__ seront très utiles à optimiser car potentiellement les plus fréquentes.\n",
    "\n",
    "## Comment indexer une table ?\n",
    "\n",
    "Que pourrait-on chercher comme information tirée de cette table lorsqu'on fait une __recherche sur un prénom__ ?\n",
    "\n",
    "Là encore, c'est subjectif, mais le plus probable est que vous souhaitiez __connaître le nombre de naissances, pour telle ou telle année__. Sur un __site web dédié aux prénoms__ par exemple.\n",
    "\n",
    "### Indexation par prénom\n",
    "\n",
    "Nous allons créer un index favorisant une recherche par prénom."
   ]
  },
  {
   "cell_type": "code",
   "execution_count": null,
   "metadata": {
    "scrolled": false
   },
   "outputs": [],
   "source": [
    "index_par_prenom = {}\n",
    "for dico in table_naissances:\n",
    "    if dico['Prénom'] in index_par_prenom:\n",
    "        index_par_prenom[dico['Prénom']].update({dico['Année de naissance'] : dico['Occurrence']})\n",
    "    else:\n",
    "        index_par_prenom[dico['Prénom']] = {dico['Année de naissance'] : dico['Occurrence']}\n",
    "\n",
    "print(index_par_prenom)"
   ]
  },
  {
   "cell_type": "markdown",
   "metadata": {},
   "source": [
    "La recherche sur un prénom se fait maintenant de façon __très simple et très rapide__."
   ]
  },
  {
   "cell_type": "code",
   "execution_count": null,
   "metadata": {
    "scrolled": true
   },
   "outputs": [],
   "source": [
    "index_par_prenom['SWANN']"
   ]
  },
  {
   "cell_type": "markdown",
   "metadata": {},
   "source": [
    " > __Remarque :__ cette indexation est imparfaite car elle ne cumule pas les occurrences des prénoms épicènes, donnés la même année à des garçons et des filles. En voici, ci-dessous, une version plus rigoureuse."
   ]
  },
  {
   "cell_type": "code",
   "execution_count": null,
   "metadata": {},
   "outputs": [],
   "source": [
    "index_par_prenom = {}\n",
    "for dico in table_naissances:\n",
    "    if dico['Prénom'] in index_par_prenom:\n",
    "        if dico['Année de naissance'] in index_par_prenom[dico['Prénom']]:\n",
    "            index_par_prenom[dico['Prénom']][dico['Année de naissance']] += dico['Occurrence']\n",
    "        else:\n",
    "            index_par_prenom[dico['Prénom']].update({dico['Année de naissance'] : dico['Occurrence']})\n",
    "    else:\n",
    "        index_par_prenom[dico['Prénom']] = {dico['Année de naissance'] : dico['Occurrence']}\n",
    "\n",
    "print(index_par_prenom)"
   ]
  },
  {
   "cell_type": "code",
   "execution_count": null,
   "metadata": {},
   "outputs": [],
   "source": [
    "index_par_prenom['SWANN']"
   ]
  },
  {
   "cell_type": "markdown",
   "metadata": {},
   "source": [
    "Cet index nous permet également de savoir très facilement __combien de prénoms différents__ (dont l'occurrence annuelle est supérieure ou égale à 5) ont été donnés pendant cette période :"
   ]
  },
  {
   "cell_type": "code",
   "execution_count": null,
   "metadata": {},
   "outputs": [],
   "source": [
    "len(index_par_prenom)"
   ]
  },
  {
   "cell_type": "markdown",
   "metadata": {},
   "source": [
    "Revenons aux __informations disponibles sur un prénom__..."
   ]
  },
  {
   "cell_type": "code",
   "execution_count": null,
   "metadata": {
    "scrolled": true
   },
   "outputs": [],
   "source": [
    "index_par_prenom['DAVID']"
   ]
  },
  {
   "cell_type": "markdown",
   "metadata": {},
   "source": [
    "La tentation de __trier ce résultat par date__ est forte mais..."
   ]
  },
  {
   "cell_type": "code",
   "execution_count": null,
   "metadata": {},
   "outputs": [],
   "source": [
    "index_par_prenom['DAVID'].sort()"
   ]
  },
  {
   "cell_type": "markdown",
   "metadata": {},
   "source": [
    "__Un dictionnaire n'étant pas ordonnée, on ne peut pas le trier !__\n",
    "\n",
    "Qu'à cela ne tienne, il suffit de créer une liste à partir du dictionnaire."
   ]
  },
  {
   "cell_type": "code",
   "execution_count": null,
   "metadata": {},
   "outputs": [],
   "source": [
    "liste_david = list(index_par_prenom['DAVID'].items())\n",
    "liste_david.sort()\n",
    "\n",
    "print(liste_david)"
   ]
  },
  {
   "cell_type": "markdown",
   "metadata": {},
   "source": [
    "Cet index nous permet bien un traitement aisé et efficace lors d'une recherche par prénom. Mais qu'en est-il d'une __recherche par année__ ?\n",
    "\n",
    "### Indexation par année\n",
    "\n",
    "Si on veut connaître les prénoms les plus donnés telle ou telle année, cet index serait particulièrement inadapté. Il faut donc créer un nouvel index dédié à ce type de recherche.\n",
    "\n",
    "A vous de jouer..."
   ]
  },
  {
   "cell_type": "code",
   "execution_count": null,
   "metadata": {},
   "outputs": [],
   "source": [
    "index_par_annee = {}\n",
    "for dico in table_naissances:\n",
    "    if dico['Année de naissance'] in index_par_annee:\n",
    "        index_par_annee[dico['Année de naissance']].update({dico['Prénom'] : dico['Occurrence']})\n",
    "    else:\n",
    "        index_par_annee[dico['Année de naissance']] = {dico['Prénom'] : dico['Occurrence']}\n",
    "\n",
    "print(index_par_annee)"
   ]
  },
  {
   "cell_type": "markdown",
   "metadata": {},
   "source": [
    "Trouver les __prénoms les plus populaires en 2008__ :"
   ]
  },
  {
   "cell_type": "code",
   "execution_count": null,
   "metadata": {},
   "outputs": [],
   "source": [
    "print(index_par_annee[2008])"
   ]
  },
  {
   "cell_type": "markdown",
   "metadata": {},
   "source": [
    "Trouver les __10 prénoms__ les plus populaires en 2019 :"
   ]
  },
  {
   "cell_type": "code",
   "execution_count": null,
   "metadata": {},
   "outputs": [],
   "source": [
    "prenoms_2019 = list(index_par_annee[2019].items())\n",
    "\n",
    "prenoms_2019.sort(key=lambda x: float(x[1]), reverse=True)\n",
    "\n",
    "print(prenoms_2019[:10])"
   ]
  },
  {
   "cell_type": "markdown",
   "metadata": {},
   "source": [
    "### Indexation pour une recherche par sexe (Approfondissement)\n",
    "\n",
    "Même principe que précédemment : créer un index pour anticiper une __recherche par année uniquement sur les prénoms de fille__."
   ]
  },
  {
   "cell_type": "code",
   "execution_count": null,
   "metadata": {},
   "outputs": [],
   "source": [
    "index_par_annee_fille = {}\n",
    "for dico in table_naissances:\n",
    "    if dico['Sexe'] == 'FILLE':\n",
    "        if dico['Année de naissance'] in index_par_annee_fille:\n",
    "            index_par_annee_fille[dico['Année de naissance']].update({dico['Prénom'] : dico['Occurrence']})\n",
    "        else:\n",
    "            index_par_annee_fille[dico['Année de naissance']] = {dico['Prénom'] : dico['Occurrence']}\n",
    "\n",
    "print(index_par_annee_fille)"
   ]
  },
  {
   "cell_type": "markdown",
   "metadata": {},
   "source": [
    "Trouver les __10 prénoms de fille__ les plus populaires en 2004 :"
   ]
  },
  {
   "cell_type": "code",
   "execution_count": null,
   "metadata": {},
   "outputs": [],
   "source": [
    "prenoms_fille_2004 = list(index_par_annee_fille[2004].items())\n",
    "\n",
    "prenoms_fille_2004.sort(key=lambda x: float(x[1]), reverse=True)\n",
    "\n",
    "print(prenoms_fille_2004[:10])"
   ]
  },
  {
   "cell_type": "markdown",
   "metadata": {},
   "source": [
    "Créer un index pour anticiper une __recherche par sexe et par année__. C'est à dire, un index permettant de faire ce type de recherche :\n",
    "\n",
    "`index_par_annee_et_sexe['GARCON'][2003]`"
   ]
  },
  {
   "cell_type": "code",
   "execution_count": null,
   "metadata": {},
   "outputs": [],
   "source": [
    "index_par_annee_et_sexe = {}\n",
    "for dico in table_naissances:\n",
    "    if dico['Sexe'] == 'FILLE':\n",
    "        if 'FILLE' in index_par_annee_et_sexe:\n",
    "            if dico['Année de naissance'] in index_par_annee_et_sexe['FILLE']:\n",
    "                index_par_annee_et_sexe['FILLE'][dico['Année de naissance']].update({dico['Prénom'] : dico['Occurrence']})\n",
    "            else:\n",
    "                index_par_annee_et_sexe['FILLE'][dico['Année de naissance']] = {dico['Prénom'] : dico['Occurrence']}\n",
    "        else:\n",
    "            index_par_annee_et_sexe['FILLE'] = {dico['Année de naissance'] : {dico['Prénom'] : dico['Occurrence']}}\n",
    "    else:\n",
    "        if 'GARCON' in index_par_annee_et_sexe:\n",
    "            if dico['Année de naissance'] in index_par_annee_et_sexe['GARCON']:\n",
    "                index_par_annee_et_sexe['GARCON'][dico['Année de naissance']].update({dico['Prénom'] : dico['Occurrence']})\n",
    "            else:\n",
    "                index_par_annee_et_sexe['GARCON'][dico['Année de naissance']] = {dico['Prénom'] : dico['Occurrence']}\n",
    "        else:\n",
    "            index_par_annee_et_sexe['GARCON'] = {dico['Année de naissance'] : {dico['Prénom'] : dico['Occurrence']}}\n",
    "print(index_par_annee_et_sexe)"
   ]
  },
  {
   "cell_type": "code",
   "execution_count": null,
   "metadata": {},
   "outputs": [],
   "source": [
    "index_par_annee_et_sexe['GARCON'][2003]"
   ]
  },
  {
   "cell_type": "markdown",
   "metadata": {},
   "source": [
    "Trouver les __10 prénoms de garçon les plus populaires en 2003__ :"
   ]
  },
  {
   "cell_type": "code",
   "execution_count": null,
   "metadata": {},
   "outputs": [],
   "source": [
    "prenoms_garcon_2003 = list(index_par_annee_et_sexe['GARCON'][2003].items())\n",
    "\n",
    "prenoms_garcon_2003.sort(key=lambda x: float(x[1]), reverse=True)\n",
    "\n",
    "print(prenoms_garcon_2003[:10])"
   ]
  },
  {
   "cell_type": "markdown",
   "metadata": {},
   "source": [
    "## Que retenir ?\n",
    "### À minima...\n",
    "\n",
    "- Un index permet de retrouver des informations présentes dans une table de façon plus simple et rapide.\n",
    "- Il est nécessaire d'anticiper le type de recherche qui sera effectué pour créer un index utile.\n",
    "- Lorsqu'on a déterminé le descripteur qui servira de base aux recherches, on peut utiliser soit :\n",
    "  - ce descripteur comme clé de l'index (ex : `'GARCON'`, `'FILLE'`).\n",
    "  - les attributs de ce descripteur comme clé de l'index (ex : `'CAMILLE'`, `'FATIMA'`, `'BORIS'`,...).\n",
    "- Un index est donc un dictionnaire.\n",
    "- Les valeurs de ce dictionnaire sont souvent également des dictionnaires.\n",
    "- Savoir faire des recherches dans un index (ex : `index['CAMILLE']`).\n",
    "\n",
    "### Au mieux...\n",
    "\n",
    "- Savoir choisir les clés pertinentes en fonction d'un besoin de recherche ultérieur.\n",
    "- Savoir créer un index, basé sur ces clés pertinentes.\n",
    "- Savoir faire une recherche à plusieur niveaux de profondeur dans un index (ex : `index['GARCON']['2003']`)."
   ]
  },
  {
   "cell_type": "markdown",
   "metadata": {},
   "source": [
    "---\n",
    "[![Licence CC BY NC SA](https://licensebuttons.net/l/by-nc-sa/3.0/88x31.png \"licence Creative Commons CC BY-NC-SA\")](http://creativecommons.org/licenses/by-nc-sa/3.0/fr/)\n",
    "<p style=\"text-align: center;\">Auteur : David Landry, Lycée Clemenceau - Nantes</p>"
   ]
  }
 ],
 "metadata": {
  "kernelspec": {
   "display_name": "Python 3",
   "language": "python",
   "name": "python3"
  },
  "language_info": {
   "codemirror_mode": {
    "name": "ipython",
    "version": 3
   },
   "file_extension": ".py",
   "mimetype": "text/x-python",
   "name": "python",
   "nbconvert_exporter": "python",
   "pygments_lexer": "ipython3",
   "version": "3.8.3"
  }
 },
 "nbformat": 4,
 "nbformat_minor": 2
}
