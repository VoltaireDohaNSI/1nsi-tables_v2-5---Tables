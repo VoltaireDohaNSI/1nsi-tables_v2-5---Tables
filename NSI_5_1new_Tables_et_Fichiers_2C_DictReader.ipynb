{
 "cells": [
  {
   "cell_type": "markdown",
   "id": "8d6a00b7",
   "metadata": {},
   "source": [
    "# **Cours : Traitement de données en tables avec des dictionnaires (Première NSI)**\n",
    "\n",
    "## **Introduction**\n",
    "Pour manipuler des données tabulaires en Python, une approche courante est d'utiliser une liste de dictionnaires, où chaque dictionnaire représente une ligne avec des clés pour les colonnes. Cela facilite l'accès aux données par nom de colonne, plutôt que par indice.\n",
    "\n",
    "Nous utilisons également `csv.DictReader` pour importer facilement des données depuis des fichiers CSV."
   ]
  },
  {
   "cell_type": "markdown",
   "id": "ab6ecd98",
   "metadata": {},
   "source": [
    "## **1. Indexation des tables**\n",
    "Avec une liste de dictionnaires, chaque élément est un dictionnaire représentant une ligne, et on peut accéder aux valeurs par clé.\n",
    "\n",
    "### **Exemple :**\n",
    "Voici une table contenant des informations sur des étudiants, représentée comme une liste de dictionnaires :"
   ]
  },
  {
   "cell_type": "code",
   "execution_count": null,
   "id": "7359b790",
   "metadata": {},
   "outputs": [],
   "source": [
    "etudiants = [\n",
    "    {\"Nom\": \"Ali\", \"Classe\": \"1A\", \"Note\": 14},\n",
    "    {\"Nom\": \"Sarah\", \"Classe\": \"1B\", \"Note\": 16},\n",
    "    {\"Nom\": \"Yasmine\", \"Classe\": \"1A\", \"Note\": 12},\n",
    "]\n",
    "\n",
    "# Exemple d'accès à une donnée :\n",
    "print(etudiants[1][\"Note\"])  # Note de Sarah"
   ]
  },
  {
   "cell_type": "markdown",
   "id": "e5dcbb99",
   "metadata": {},
   "source": [
    "### **Exercice d'application :**\n",
    "1. Dans la table ci-dessus, affichez :\n",
    "   - La classe de \"Ali\".\n",
    "   - Toutes les informations du troisième étudiant.\n",
    "2. Modifiez la note de \"Yasmine\" pour qu'elle devienne 15."
   ]
  },
  {
   "cell_type": "markdown",
   "id": "2d22e3ec",
   "metadata": {},
   "source": [
    "## **2. Importer des tables depuis des fichiers texte ou CSV**\n",
    "Avec `csv.DictReader`, chaque ligne du fichier est convertie en un dictionnaire. Cela permet d'accéder directement aux données par nom de colonne.\n",
    "\n",
    "### **Exemple :**\n",
    "Créer un fichier CSV nommé `etudiants.csv` avec le contenu suivant :\n",
    "```\n",
    "Nom,Classe,Note\n",
    "Ali,1A,14\n",
    "Sarah,1B,16\n",
    "Yasmine,1A,12\n",
    "```\n",
    "\n",
    "Pour lire ce fichier en Python :"
   ]
  },
  {
   "cell_type": "code",
   "execution_count": null,
   "id": "1fff7541",
   "metadata": {},
   "outputs": [],
   "source": [
    "import csv\n",
    "\n",
    "with open(\"etudiants.csv\", \"r\") as fichier:\n",
    "    lecteur_csv = csv.DictReader(fichier)\n",
    "    table = [ligne for ligne in lecteur_csv]\n",
    "\n",
    "print(table)"
   ]
  },
  {
   "cell_type": "markdown",
   "id": "cade609a",
   "metadata": {},
   "source": [
    "### **Exercice d'application :**\n",
    "1. Créez un fichier CSV nommé `produits.csv` avec les colonnes : `Nom`, `Prix`, `Stock`.\n",
    "2. Écrivez un programme Python pour lire ce fichier et afficher toutes les lignes."
   ]
  },
  {
   "cell_type": "markdown",
   "id": "1c672fef",
   "metadata": {},
   "source": [
    "## **3. Chercher des lignes selon des critères logiques**\n",
    "On peut rechercher des lignes respectant une condition logique en parcourant la liste de dictionnaires.\n",
    "\n",
    "### **Exemple :**\n",
    "Afficher les étudiants avec une note supérieure ou égale à 15 :"
   ]
  },
  {
   "cell_type": "code",
   "execution_count": null,
   "id": "70d4f7f0",
   "metadata": {},
   "outputs": [],
   "source": [
    "for etudiant in etudiants:\n",
    "    if etudiant[\"Note\"] >= 15:\n",
    "        print(etudiant)"
   ]
  },
  {
   "cell_type": "markdown",
   "id": "68c9d3be",
   "metadata": {},
   "source": [
    "### **Exercice d'application :**\n",
    "1. Écrivez un programme pour afficher les étudiants de la classe \"1A\".\n",
    "2. Ajoutez un critère pour afficher ceux ayant une note strictement inférieure à 14."
   ]
  },
  {
   "cell_type": "markdown",
   "id": "051d0ac5",
   "metadata": {},
   "source": [
    "## **4. Trier une table par une colonne**\n",
    "Pour trier une liste de dictionnaires, on utilise la fonction `sorted` avec l'argument `key`.\n",
    "\n",
    "### **Exemple :**\n",
    "Trier les étudiants par leur note :"
   ]
  },
  {
   "cell_type": "code",
   "execution_count": null,
   "id": "5040490f",
   "metadata": {},
   "outputs": [],
   "source": [
    "# Fonction pour extraire la clé de tri\n",
    "def get_note(etudiant):\n",
    "    return etudiant[\"Note\"]\n",
    "\n",
    "# Tri par note\n",
    "etudiants_tries = sorted(etudiants, key=get_note)\n",
    "print(etudiants_tries)"
   ]
  },
  {
   "cell_type": "markdown",
   "id": "ca398d7e",
   "metadata": {},
   "source": [
    "### **Pourquoi utiliser `key` ?**\n",
    "- L'argument `key` permet de spécifier comment comparer les éléments.\n",
    "- Dans ce cas, `get_note` retourne la valeur associée à la clé \"Note\" pour chaque dictionnaire.\n",
    "- `sorted` utilise ces valeurs pour effectuer le tri."
   ]
  },
  {
   "cell_type": "markdown",
   "id": "1302138b",
   "metadata": {},
   "source": [
    "### **Exercice d'application :**\n",
    "1. Ajoutez un étudiant nommé \"Omar\", classe \"1B\", note 14.\n",
    "2. Affichez la table triée par nom (ordre alphabétique).\n",
    "3. Essayez de trier les étudiants par leur classe, puis par leur note."
   ]
  },
  {
   "cell_type": "markdown",
   "id": "1ed81db7",
   "metadata": {},
   "source": [
    "## **5. Fusionner des tables pour en créer une nouvelle**\n",
    "Pour fusionner deux tables, on combine les dictionnaires ayant une clé commune.\n",
    "\n",
    "### **Exemple :**"
   ]
  },
  {
   "cell_type": "code",
   "execution_count": null,
   "id": "8eeaea6d",
   "metadata": {},
   "outputs": [],
   "source": [
    "activites = [\n",
    "    {\"Nom\": \"Ali\", \"Activité\": \"Football\"},\n",
    "    {\"Nom\": \"Sarah\", \"Activité\": \"Théâtre\"},\n",
    "    {\"Nom\": \"Yasmine\", \"Activité\": \"Musique\"},\n",
    "]\n",
    "\n",
    "fusion = []\n",
    "for etu in etudiants:\n",
    "    for act in activites:\n",
    "        if etu[\"Nom\"] == act[\"Nom\"]:\n",
    "            fusion.append({**etu, **act})\n",
    "\n",
    "print(fusion)"
   ]
  },
  {
   "cell_type": "markdown",
   "id": "df196a4a",
   "metadata": {},
   "source": [
    "### **Exercice d'application :**\n",
    "1. Créez une table `professeurs` avec `Nom` et `Matière` comme colonnes.\n",
    "2. Fusionnez cette table avec une table `classes` associant un professeur à une classe."
   ]
  },
  {
   "cell_type": "markdown",
   "id": "cc4fac10",
   "metadata": {},
   "source": [
    "## **Résumé**\n",
    "Ce cours a abordé les notions essentielles du traitement des données en tables avec des dictionnaires :\n",
    "1. Indexation et accès aux données par clé.\n",
    "2. Importation de données depuis des fichiers CSV avec `csv.DictReader`.\n",
    "3. Recherche de lignes selon des critères logiques.\n",
    "4. Tri de données avec `sorted` et une fonction clé.\n",
    "5. Fusion de tables en combinant des dictionnaires.\n",
    "\n",
    "Ces compétences permettent une manipulation flexible et lisible des données tabulaires."
   ]
  },
  {
   "cell_type": "markdown",
   "id": "8f680119",
   "metadata": {},
   "source": [
    "### **Correction des exercices : 1. Indexation des tables**"
   ]
  },
  {
   "cell_type": "code",
   "execution_count": null,
   "id": "6b92c144",
   "metadata": {},
   "outputs": [],
   "source": [
    "# Correction des exercices d'indexation\n",
    "# Classe d'Ali\n",
    "print(etudiants[0]['Classe'])  # Affiche 1A\n",
    "\n",
    "# Informations du troisième étudiant\n",
    "print(etudiants[2])\n",
    "\n",
    "# Modification de la note de Yasmine\n",
    "etudiants[2]['Note'] = 15\n",
    "print(etudiants[2])"
   ]
  },
  {
   "cell_type": "markdown",
   "id": "77947c71",
   "metadata": {},
   "source": [
    "### **Correction des exercices : 2. Importer des tables depuis des fichiers texte ou CSV**"
   ]
  },
  {
   "cell_type": "code",
   "execution_count": null,
   "id": "190feab2",
   "metadata": {},
   "outputs": [],
   "source": [
    "# Lecture du fichier CSV (hypothèse : produits.csv existe déjà avec les colonnes Nom, Prix, Stock)\n",
    "import csv\n",
    "\n",
    "with open('produits.csv', 'r') as fichier:\n",
    "    lecteur_csv = csv.DictReader(fichier)\n",
    "    produits = [ligne for ligne in lecteur_csv]\n",
    "\n",
    "print(produits)"
   ]
  },
  {
   "cell_type": "markdown",
   "id": "6ba8345e",
   "metadata": {},
   "source": [
    "### **Correction des exercices : 3. Chercher des lignes selon des critères logiques**"
   ]
  },
  {
   "cell_type": "code",
   "execution_count": null,
   "id": "8cf67ef1",
   "metadata": {},
   "outputs": [],
   "source": [
    "# Étudiants de la classe 1A\n",
    "for etudiant in etudiants:\n",
    "    if etudiant['Classe'] == '1A':\n",
    "        print(etudiant)\n",
    "\n",
    "# Étudiants ayant une note strictement inférieure à 14\n",
    "for etudiant in etudiants:\n",
    "    if etudiant['Note'] < 14:\n",
    "        print(etudiant)"
   ]
  },
  {
   "cell_type": "markdown",
   "id": "27716719",
   "metadata": {},
   "source": [
    "### **Correction des exercices : 4. Trier une table par une colonne**"
   ]
  },
  {
   "cell_type": "code",
   "execution_count": null,
   "id": "fe5a7730",
   "metadata": {},
   "outputs": [],
   "source": [
    "# Ajout d'Omar\n",
    "etudiants.append({'Nom': 'Omar', 'Classe': '1B', 'Note': 14})\n",
    "\n",
    "# Tri par nom\n",
    "etudiants_tries_nom = sorted(etudiants, key=lambda x: x['Nom'])\n",
    "print(etudiants_tries_nom)\n",
    "\n",
    "# Tri par classe puis par note\n",
    "etudiants_tries_classe_note = sorted(etudiants, key=lambda x: (x['Classe'], x['Note']))\n",
    "print(etudiants_tries_classe_note)"
   ]
  },
  {
   "cell_type": "markdown",
   "id": "c06a7128",
   "metadata": {},
   "source": [
    "### **Correction des exercices : 5. Fusionner des tables pour en créer une nouvelle**"
   ]
  },
  {
   "cell_type": "code",
   "execution_count": null,
   "id": "2784783c",
   "metadata": {},
   "outputs": [],
   "source": [
    "# Création des tables professeurs et classes\n",
    "professeurs = [\n",
    "    {'Nom': 'Mme Dupont', 'Matière': 'Mathématiques'},\n",
    "    {'Nom': 'M. Lefevre', 'Matière': 'Physique'},\n",
    "]\n",
    "\n",
    "classes = [\n",
    "    {'Nom': 'Mme Dupont', 'Classe': '1A'},\n",
    "    {'Nom': 'M. Lefevre', 'Classe': '1B'},\n",
    "]\n",
    "\n",
    "# Fusion des deux tables\n",
    "fusion = []\n",
    "for prof in professeurs:\n",
    "    for classe in classes:\n",
    "        if prof['Nom'] == classe['Nom']:\n",
    "            fusion.append({**prof, **classe})\n",
    "\n",
    "print(fusion)"
   ]
  }
 ],
 "metadata": {},
 "nbformat": 4,
 "nbformat_minor": 5
}