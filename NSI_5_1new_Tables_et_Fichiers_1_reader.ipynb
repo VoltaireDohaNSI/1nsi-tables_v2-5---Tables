{
 "cells": [
  {
   "cell_type": "markdown",
   "id": "a91300e8",
   "metadata": {},
   "source": [
    "# **Cours : Traitement de données en tables (Première NSI)**\n",
    "\n",
    "## **Introduction**\n",
    "Le traitement des données en tables est essentiel pour manipuler et analyser des informations structurées. En NSI, nous apprenons à travailler avec des tables en Python en utilisant des listes et des bibliothèques comme `csv`."
   ]
  },
  {
   "cell_type": "markdown",
   "id": "debdd41a",
   "metadata": {},
   "source": [
    "## **1. Indexation des tables**\n",
    "Une table est souvent représentée par une liste de listes (ou un tableau 2D). Chaque ligne représente un enregistrement, et chaque colonne correspond à un attribut.\n",
    "\n",
    "### **Exemple :**\n",
    "Voici une table contenant des informations sur des étudiants :"
   ]
  },
  {
   "cell_type": "code",
   "execution_count": null,
   "id": "ec99ebc0",
   "metadata": {},
   "outputs": [],
   "source": [
    "etudiants = [\n",
    "    [\"Nom\", \"Classe\", \"Note\"],\n",
    "    [\"Ali\", \"1A\", 14],\n",
    "    [\"Sarah\", \"1B\", 16],\n",
    "    [\"Yasmine\", \"1A\", 12],\n",
    "]\n",
    "# Exemple d'accès à une donnée :\n",
    "print(etudiants[2][2])  # Note de Sarah"
   ]
  },
  {
   "cell_type": "markdown",
   "id": "ff46370d",
   "metadata": {},
   "source": [
    "### **Exercice d'application :**\n",
    "1. Dans la table ci-dessus, affichez :\n",
    "   - La classe de \"Ali\".\n",
    "   - Toutes les informations de la troisième ligne.\n",
    "2. Modifiez la note de \"Yasmine\" pour qu'elle devienne 15."
   ]
  },
  {
   "cell_type": "code",
   "execution_count": null,
   "id": "2d430a00",
   "metadata": {},
   "outputs": [],
   "source": []
  },
  {
   "cell_type": "markdown",
   "id": "5cab8704",
   "metadata": {},
   "source": [
    "## **2. Importer des tables depuis des fichiers texte ou CSV**\n",
    "Les fichiers CSV (Comma-Separated Values) sont couramment utilisés pour stocker des données tabulaires.\n",
    "\n",
    "### **Exemple :**\n",
    "Créer un fichier CSV nommé `etudiants.csv` avec le contenu suivant :\n",
    "```\n",
    "Nom,Classe,Note\n",
    "Ali,1A,14\n",
    "Sarah,1B,16\n",
    "Yasmine,1A,12\n",
    "```\n",
    "\n",
    "Pour lire ce fichier en Python :"
   ]
  },
  {
   "cell_type": "code",
   "execution_count": null,
   "id": "716bb42e",
   "metadata": {},
   "outputs": [],
   "source": [
    "import csv\n",
    "\n",
    "with open(\"etudiants.csv\", \"r\") as fichier:\n",
    "    lecteur_csv = csv.reader(fichier)\n",
    "    table = [ligne for ligne in lecteur_csv]\n",
    "\n",
    "print(table)"
   ]
  },
  {
   "cell_type": "markdown",
   "id": "0a845125",
   "metadata": {},
   "source": [
    "### **Exercice d'application :**\n",
    "1. Créez un fichier CSV nommé `produits.csv` avec les colonnes : `Nom`, `Prix`, `Stock`.\n",
    "2. Écrivez un programme Python pour lire ce fichier et afficher toutes les lignes."
   ]
  },
  {
   "cell_type": "code",
   "execution_count": null,
   "id": "25f2aa0d",
   "metadata": {},
   "outputs": [],
   "source": []
  },
  {
   "cell_type": "markdown",
   "id": "52743cf7",
   "metadata": {},
   "source": [
    "## **3. Chercher des lignes selon des critères logiques**\n",
    "On peut rechercher des lignes qui respectent une condition logique.\n",
    "\n",
    "### **Exemple :**\n",
    "Afficher les étudiants avec une note supérieure ou égale à 15 :"
   ]
  },
  {
   "cell_type": "code",
   "execution_count": null,
   "id": "81411148",
   "metadata": {},
   "outputs": [],
   "source": [
    "for ligne in etudiants[1:]:  # Ignorer l'en-tête\n",
    "    if ligne[2] >= 15:\n",
    "        print(ligne)"
   ]
  },
  {
   "cell_type": "markdown",
   "id": "f15d9c31",
   "metadata": {},
   "source": [
    "### **Exercice d'application :**\n",
    "1. Écrivez un programme pour afficher les étudiants de la classe \"1A\".\n",
    "2. Ajoutez un critère pour afficher ceux ayant une note strictement inférieure à 14."
   ]
  },
  {
   "cell_type": "code",
   "execution_count": null,
   "id": "7a1c8d5d",
   "metadata": {},
   "outputs": [],
   "source": []
  },
  {
   "cell_type": "markdown",
   "id": "80e0d5c5",
   "metadata": {},
   "source": [
    "## **4. Trier une table par une colonne**\n",
    "Pour trier une table, Python utilise la fonction `sorted`. Cette fonction est très puissante car elle permet de spécifier une **fonction clé** qui détermine comment les éléments sont triés."
   ]
  },
  {
   "cell_type": "code",
   "execution_count": null,
   "id": "efd1d420",
   "metadata": {},
   "outputs": [],
   "source": [
    "# Exemple : Trier par la note (3e colonne)\n",
    "def get_note(etudiant):\n",
    "    return etudiant[2]\n",
    "\n",
    "etudiants_tries = sorted(etudiants[1:], key=get_note)\n",
    "print(etudiants_tries)"
   ]
  },
  {
   "cell_type": "markdown",
   "id": "ae3ead5d",
   "metadata": {},
   "source": [
    "### **Exercice d'application :**\n",
    "1. Ajoutez une ligne pour un étudiant nommé \"Omar\", classe \"1B\", note 14.\n",
    "2. Affichez la table triée par nom (ordre alphabétique).\n",
    "3. Essayez de trier les étudiants par leur classe, puis par leur note."
   ]
  },
  {
   "cell_type": "code",
   "execution_count": null,
   "id": "435270cf",
   "metadata": {},
   "outputs": [],
   "source": []
  },
  {
   "cell_type": "markdown",
   "id": "64513fbe",
   "metadata": {},
   "source": [
    "## **5. Fusionner des tables pour en créer une nouvelle**\n",
    "On peut combiner deux tables ayant une colonne commune pour créer une table enrichie.\n",
    "\n",
    "### **Exemple :**"
   ]
  },
  {
   "cell_type": "code",
   "execution_count": null,
   "id": "0e95ae19",
   "metadata": {},
   "outputs": [],
   "source": [
    "activites = [\n",
    "    [\"Nom\", \"Activité\"],\n",
    "    [\"Ali\", \"Football\"],\n",
    "    [\"Sarah\", \"Théâtre\"],\n",
    "    [\"Yasmine\", \"Musique\"],\n",
    "]\n",
    "\n",
    "fusion = []\n",
    "for etu in etudiants[1:]:\n",
    "    for act in activites[1:]:\n",
    "        if etu[0] == act[0]:\n",
    "            fusion.append(etu + act[1:])\n",
    "\n",
    "print(fusion)"
   ]
  },
  {
   "cell_type": "markdown",
   "id": "f2c5d537",
   "metadata": {},
   "source": [
    "### **Exercice d'application :**\n",
    "1. Créez une table `professeurs` avec `Nom` et `Matière` comme colonnes.\n",
    "2. Fusionnez cette table avec une table `classes` associant un professeur à une classe."
   ]
  },
  {
   "cell_type": "code",
   "execution_count": null,
   "id": "a17a29d1",
   "metadata": {},
   "outputs": [],
   "source": []
  },
  {
   "cell_type": "markdown",
   "id": "9e1cc9a4",
   "metadata": {},
   "source": [
    "## **Résumé**\n",
    "Ce cours a abordé les notions essentielles du traitement des données en tables :\n",
    "1. Indexation des données.\n",
    "2. Importation de tables depuis des fichiers CSV.\n",
    "3. Recherche de lignes selon des critères.\n",
    "4. Tri de données avec la fonction `sorted` et une fonction clé.\n",
    "5. Fusion de tables pour enrichir les données.\n",
    "\n",
    "Ces compétences sont fondamentales pour manipuler des bases de données et résoudre des problèmes concrets avec Python."
   ]
  }
 ],
 "metadata": {
  "language_info": {
   "name": "python"
  }
 },
 "nbformat": 4,
 "nbformat_minor": 5
}
