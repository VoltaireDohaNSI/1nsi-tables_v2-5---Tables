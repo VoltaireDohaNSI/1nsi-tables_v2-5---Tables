{
 "cells": [
  {
   "cell_type": "markdown",
   "metadata": {},
   "source": [
    "# Le choixpeau magique\n",
    "## Fusion de tables\n",
    "### Caractéristiques des élèves de Poudlard\n",
    "\n",
    "Le fichier initial, contenant les personnages du roman _Harry Potter_ vient du [site Kaggle](https://www.kaggle.com/gulsahdemiryurek/harry-potter-dataset).\n",
    "\n",
    "En l'état, ce fichier ne permet pas de créer notre Choixpeau magique car il ne contient pas les __caractéristiques des personnages__ (Courage, Ambition, Intelligence, Tendance à la bonté), essentielles à \n",
    "la création d'un __profil par personnage__.\n",
    "\n",
    "Il faut donc créer puis ajouter ces informations aux données du fichier initial. Le __fichier Caracteristiques_des_persos.csv__ contient ces nouvelles données sous la forme...\n",
    "\n",
    "```\n",
    "Name;Courage;Ambition;Intelligence;Good\n",
    "Harry James Potter;9;4;5;9\n",
    "Ronald Bilius Weasley;8;6;5;9\n",
    "Hermione Jean Granger;9;6;9;9\n",
    "etc...\n",
    "```\n",
    "\n",
    "> __Remarques :__ \n",
    "- ayant pour objectif de créer un Choixpeau magique, seuls les élèves ou anciens élèves de Poudlard nous intéressent. L'ajout de ces données n'a donc été fait que sur ces personnages.\n",
    "- quelques anciens élèves étant difficiles à cerner, ils ne seront pas non plus conservés dans la base finale.\n",
    "\n",
    "### Création des deux tables\n",
    "\n",
    "Dans un premier temps, il faut __créer deux tables à partir des deux fichiers CSV__ à notre disposition : __Characters.csv__ et __Caracteristiques_des_persos.csv__.\n",
    "\n",
    "> __Remarques :__ \n",
    "- ici encore, le choix technique pour créer les tables se porte classiquement sur un tableau de dictionnaires.\n",
    "- a ce stade, il vous est permis d'utiliser le module `csv`.\n",
    "\n",
    "#### Création de la table `characters_tab` à partir du fichier Characters.csv\n",
    "\n",
    "A vous de jouer..."
   ]
  },
  {
   "cell_type": "code",
   "execution_count": null,
   "metadata": {},
   "outputs": [],
   "source": []
  },
  {
   "cell_type": "markdown",
   "metadata": {},
   "source": [
    "> __Remarque :__ il arrive que certains caractères indésirables posent un problème d'affichage, comme les espaces insécables `\\xa0`. Un nettoyage avec la methode [`.replace('\\xa0', ' ')`](https://www.w3schools.com/python/ref_string_replace.asp) au moment de la création de la table peut résoudre de souci.\n",
    "\n",
    "Au besoin, faire ce nettoyage ci-dessous :"
   ]
  },
  {
   "cell_type": "code",
   "execution_count": null,
   "metadata": {},
   "outputs": [],
   "source": []
  },
  {
   "cell_type": "markdown",
   "metadata": {},
   "source": [
    "#### Création de la table `characteristics_tab` à partir du fichier Caracteristiques_des_persos.csv"
   ]
  },
  {
   "cell_type": "code",
   "execution_count": null,
   "metadata": {},
   "outputs": [],
   "source": []
  },
  {
   "cell_type": "markdown",
   "metadata": {},
   "source": [
    "### Jointure des deux tables\n",
    "\n",
    "Il faut maintenant __créer une nouvelle table `poudlard_characters`__ en effectuant une jointure entre les deux tables précédentes.\n",
    "\n",
    "Il faut donc...\n",
    "\n",
    "- __conserver uniquement les élèves de Poudlard__ dont on dispose des caractéristiques.\n",
    "- __ajouter aux enregistrements de ces élèves tous les attributs__ à notre disposition dans le fichier d'origine (Characters.csv).\n",
    "\n",
    "A vous de jouer..."
   ]
  },
  {
   "cell_type": "code",
   "execution_count": null,
   "metadata": {},
   "outputs": [],
   "source": []
  },
  {
   "cell_type": "markdown",
   "metadata": {},
   "source": [
    "## Indexations pour les besoins du Choixpeau magique\n",
    "\n",
    "> __Remarque :__ dans le cadre du projet \"Choixpeau magique\", l'indexation n'est pas forcément utile. De plus, l'indexation rend le projet plus complexe. __Cette indexation est donc à réserver aux élèves qui feront le bonus sur la validation croisée__ car, dans ce cas, l'indexation apporte un réel gain de performances.\n",
    "Le Choixpeau magique nécessite de profiler chaque élève à l'aide des caractéristiques que nous venons de fusionner. \n",
    "\n",
    "Par souci d'efficacité, nous allons donc...\n",
    "\n",
    "- créer un gros __index nommé `index_id`, liant chaque élève à l'ensemble de ses attributs__.\n",
    "- créer un petit __index nommé `index_id_characteristics`, liant chaque élève à ses caractéristiques__ (Courage, Ambition, Intelligence, Tendance au bien).\n",
    "\n",
    "> __Remarques :__\n",
    "- __on ne gardera que le descripteur `Id` pour désigner un élève__.\n",
    "- __un identifiant unique__ par personnage, comme `Id`, évite les éventuels __problèmes en cas d'homonymie__.\n",
    "\n",
    "### Indexation de l'ensemble de la table, par identifiant\n",
    "\n",
    "Afin de retrouver facilement et rapidement un attribut quelconque à partir de l'identifiant d'un élève, créer un index sous la forme :\n",
    "\n",
    "    index_id = {1: {'Name': 'Harry James Potter', 'Courage': '9', 'Ambition': '4', 'Intelligence': '5', 'Good': '9', 'Id': '1', 'Gender': 'Male', 'Job': 'Student', 'House': 'Gryffindor', 'Wand': '11\"  Holly  phoenix feather', 'Patronus': 'Stag', 'Species': 'Human', 'Blood status': 'Half-blood', 'Hair colour': 'Black', 'Eye colour': 'Bright green', 'Loyalty': \"Albus Dumbledore | Dumbledore's Army | Order of the Phoenix | Hogwarts School of Witchcraft and Wizardry\", 'Skills': 'Parseltongue| Defence Against the Dark Arts | Seeker', 'Birth': '31 July 1980', 'Death': ''},\n",
    "                2: {'Name': 'Ronald Bilius Weasley', 'Courage': '8', 'Ambition': '6', 'Intelligence': '5', 'Good': '9', 'Id': '2', 'Gender': 'Male', 'Job': 'Student', 'House': 'Gryffindor', 'Wand': '12\" Ash unicorn tail hair ', 'Patronus': 'Jack Russell terrier', 'Species': 'Human', 'Blood status': 'Pure-blood', 'Hair colour': 'Red', 'Eye colour': 'Blue', 'Loyalty': \"Dumbledore's Army | Order of the Phoenix | Hogwarts School of Witchcraft and Wizardry\", 'Skills': 'Wizard chess | Quidditch goalkeeping', 'Birth': '1 March 1980', 'Death': ''},\n",
    "                 3: ...}\n",
    "\n",
    "> __Remarque :__ les __identifiants uniques__ (ex : numéro de sécurité sociale, ISBN pour les livres,...) sont le plus souvent __des entiers__. On convertira donc en entier toutes les clés de cet index (voir modèle ci-dessus).\n",
    "\n",
    "A vous de jouer..."
   ]
  },
  {
   "cell_type": "code",
   "execution_count": null,
   "metadata": {},
   "outputs": [],
   "source": []
  },
  {
   "cell_type": "markdown",
   "metadata": {},
   "source": [
    "### Indexation des 4 caractéristiques par identifiant\n",
    "\n",
    "Afin de retrouver facilement et rapidement ses 4 caractéristiques à partir de l'identifiant d'un élève, il faut maintenant créer un index dédié à ces recherches.\n",
    "\n",
    "> __Remarques :__\n",
    "- on utilisera un __tuple__ sous la forme (valeur de Courage, valeur d'Ambition, valeur d'Intelligence, valeur de tendance au bien) pour optimiser l'espace et l'efficacité algo.\n",
    "- toutes les __valeurs numériques seront des entiers__.\n",
    "\n",
    "L'index devra donc être sous la forme :\n",
    "\n",
    "`index_id_characteristics = {1: (9, 4, 5, 9), 2: (8, 6, 5, 9), ... }`\n",
    "\n"
   ]
  },
  {
   "cell_type": "code",
   "execution_count": null,
   "metadata": {},
   "outputs": [],
   "source": []
  },
  {
   "cell_type": "markdown",
   "metadata": {},
   "source": [
    "Nous savons maintenant comment construire les __structures de données adaptées à notre projet du Choixpeau magique__."
   ]
  },
  {
   "cell_type": "markdown",
   "metadata": {},
   "source": [
    "---\n",
    "[![Licence CC BY NC SA](https://licensebuttons.net/l/by-nc-sa/3.0/88x31.png \"licence Creative Commons CC BY-NC-SA\")](http://creativecommons.org/licenses/by-nc-sa/3.0/fr/)\n",
    "<p style=\"text-align: center;\">Auteur : David Landry, Lycée Clemenceau - Nantes</p>"
   ]
  }
 ],
 "metadata": {
  "kernelspec": {
   "display_name": "Python 3",
   "language": "python",
   "name": "python3"
  },
  "language_info": {
   "codemirror_mode": {
    "name": "ipython",
    "version": 3
   },
   "file_extension": ".py",
   "mimetype": "text/x-python",
   "name": "python",
   "nbconvert_exporter": "python",
   "pygments_lexer": "ipython3",
   "version": "3.8.3"
  }
 },
 "nbformat": 4,
 "nbformat_minor": 2
}
